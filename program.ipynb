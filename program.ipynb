{
 "metadata": {
  "language_info": {
   "codemirror_mode": {
    "name": "ipython",
    "version": 3
   },
   "file_extension": ".py",
   "mimetype": "text/x-python",
   "name": "python",
   "nbconvert_exporter": "python",
   "pygments_lexer": "ipython3",
   "version": "3.9.0-final"
  },
  "orig_nbformat": 2,
  "kernelspec": {
   "name": "Python 3.9.0 64-bit",
   "display_name": "Python 3.9.0 64-bit",
   "metadata": {
    "interpreter": {
     "hash": "be8980781c6ccacbfc1b7aadce587eaf82bd4863bcde4613e8d59aeb24cb1aa5"
    }
   }
  }
 },
 "nbformat": 4,
 "nbformat_minor": 2,
 "cells": [
  {
   "source": [
    "import pandas as pd\n",
    "df = pd.read_csv(\"c:/Temp/GL_BigData/test-task_dataset_summer_products.csv\")"
   ],
   "cell_type": "code",
   "metadata": {},
   "execution_count": 1,
   "outputs": []
  },
  {
   "source": [
    "selectedColumnsDf = df[['origin_country', 'price', 'rating_count', 'rating_five_count']]"
   ],
   "cell_type": "code",
   "metadata": {},
   "execution_count": 2,
   "outputs": []
  },
  {
   "cell_type": "code",
   "execution_count": 3,
   "metadata": {},
   "outputs": [],
   "source": [
    "aggDf = selectedColumnsDf.groupby('origin_country').aggregate({\n",
    "    'price': 'mean',\n",
    "    'rating_count': 'sum',\n",
    "    'rating_five_count': 'sum'\n",
    "})"
   ]
  },
  {
   "cell_type": "code",
   "execution_count": 4,
   "metadata": {},
   "outputs": [],
   "source": [
    "aggDf['five_percentage'] = aggDf.rating_five_count / aggDf.rating_count  * 100\n",
    "aggDf = aggDf.rename(columns={'price': 'avg_price'})\n",
    "\n",
    "resDf = aggDf[['avg_price', 'five_percentage']]"
   ]
  },
  {
   "cell_type": "code",
   "execution_count": null,
   "metadata": {},
   "outputs": [],
   "source": []
  }
 ]
}